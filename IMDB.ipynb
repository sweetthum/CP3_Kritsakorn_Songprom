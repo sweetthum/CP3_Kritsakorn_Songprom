{
  "nbformat": 4,
  "nbformat_minor": 0,
  "metadata": {
    "colab": {
      "name": "IMDB.ipynb",
      "provenance": [],
      "collapsed_sections": [],
      "authorship_tag": "ABX9TyP2mjy5osFfohjHI6FCSFYn",
      "include_colab_link": true
    },
    "kernelspec": {
      "name": "python3",
      "display_name": "Python 3"
    },
    "language_info": {
      "name": "python"
    }
  },
  "cells": [
    {
      "cell_type": "markdown",
      "metadata": {
        "id": "view-in-github",
        "colab_type": "text"
      },
      "source": [
        "<a href=\"https://colab.research.google.com/github/sweetthum/CP3_Kritsakorn_Songprom/blob/main/IMDB.ipynb\" target=\"_parent\"><img src=\"https://colab.research.google.com/assets/colab-badge.svg\" alt=\"Open In Colab\"/></a>"
      ]
    },
    {
      "cell_type": "code",
      "metadata": {
        "id": "qwHYhxe96uI0",
        "colab": {
          "base_uri": "https://localhost:8080/"
        },
        "outputId": "ff859476-03ca-4f2a-c58c-f232b9f96ba9"
      },
      "source": [
        "!mkdir ~/.kaggle\n",
        "!mv kaggle.json ~/.kaggle\n",
        "!chmod 600 ~/.kaggle/kaggle.json\n",
        "!kaggle datasets download stefanoleone992/imdb-extensive-dataset\n",
        "!unzip imdb-extensive-dataset.zip"
      ],
      "execution_count": 1,
      "outputs": [
        {
          "output_type": "stream",
          "text": [
            "Downloading imdb-extensive-dataset.zip to /content\n",
            " 79% 65.0M/82.3M [00:00<00:00, 56.8MB/s]\n",
            "100% 82.3M/82.3M [00:01<00:00, 84.0MB/s]\n",
            "Archive:  imdb-extensive-dataset.zip\n",
            "  inflating: IMDb movies.csv         \n",
            "  inflating: IMDb names.csv          \n",
            "  inflating: IMDb ratings.csv        \n",
            "  inflating: IMDb title_principals.csv  \n"
          ],
          "name": "stdout"
        }
      ]
    },
    {
      "cell_type": "code",
      "metadata": {
        "id": "cPDiEANy81_W"
      },
      "source": [
        "with open('IMDb movies.csv') as f:\n",
        "    lines = [line for line in f]"
      ],
      "execution_count": 2,
      "outputs": []
    },
    {
      "cell_type": "code",
      "metadata": {
        "colab": {
          "base_uri": "https://localhost:8080/"
        },
        "id": "mXdBxgac89YX",
        "outputId": "820b78f8-7d17-4e47-e3e9-381d80d01446"
      },
      "source": [
        "lines[:10]"
      ],
      "execution_count": 3,
      "outputs": [
        {
          "output_type": "execute_result",
          "data": {
            "text/plain": [
              "['imdb_title_id,title,original_title,year,date_published,genre,duration,country,language,director,writer,production_company,actors,description,avg_vote,votes,budget,usa_gross_income,worlwide_gross_income,metascore,reviews_from_users,reviews_from_critics\\n',\n",
              " 'tt0000009,Miss Jerry,Miss Jerry,1894,1894-10-09,Romance,45,USA,None,Alexander Black,Alexander Black,Alexander Black Photoplays,\"Blanche Bayliss, William Courtenay, Chauncey Depew\",The adventures of a female reporter in the 1890s.,5.9,154,,,,,1.0,2.0\\n',\n",
              " 'tt0000574,The Story of the Kelly Gang,The Story of the Kelly Gang,1906,1906-12-26,\"Biography, Crime, Drama\",70,Australia,None,Charles Tait,Charles Tait,J. and N. Tait,\"Elizabeth Tait, John Tait, Norman Campbell, Bella Cola, Will Coyne, Sam Crewes, Jack Ennis, John Forde, Vera Linden, Mr. Marshall, Mr. McKenzie, Frank Mills, Ollie Wilson\",True story of notorious Australian outlaw Ned Kelly (1855-80).,6.1,589,$ 2250,,,,7.0,7.0\\n',\n",
              " 'tt0001892,Den sorte drøm,Den sorte drøm,1911,1911-08-19,Drama,53,\"Germany, Denmark\",,Urban Gad,\"Urban Gad, Gebhard Schätzler-Perasini\",Fotorama,\"Asta Nielsen, Valdemar Psilander, Gunnar Helsengreen, Emil Albes, Hugo Flink, Mary Hagen\",\"Two men of high rank are both wooing the beautiful and famous equestrian acrobat Stella. While Stella ignores the jeweler Hirsch, she accepts Count von Waldberg\\'s offer to follow her home, ...\",5.8,188,,,,,5.0,2.0\\n',\n",
              " 'tt0002101,Cleopatra,Cleopatra,1912,1912-11-13,\"Drama, History\",100,USA,English,Charles L. Gaskill,Victorien Sardou,Helen Gardner Picture Players,\"Helen Gardner, Pearl Sindelar, Miss Fielding, Miss Robson, Helene Costello, Charles Sindelar, Mr. Howard, James R. Waite, Mr. Osborne, Harry Knowles, Mr. Paul, Mr. Brady, Mr. Corker\",The fabled queen of Egypt\\'s affair with Roman general Marc Antony is ultimately disastrous for both of them.,5.2,446,$ 45000,,,,25.0,3.0\\n',\n",
              " 'tt0002130,L\\'Inferno,L\\'Inferno,1911,1911-03-06,\"Adventure, Drama, Fantasy\",68,Italy,Italian,\"Francesco Bertolini, Adolfo Padovan\",Dante Alighieri,Milano Film,\"Salvatore Papa, Arturo Pirovano, Giuseppe de Liguoro, Pier Delle Vigne, Augusto Milla, Attilio Motta, Emilise Beretta\",Loosely adapted from Dante\\'s Divine Comedy and inspired by the illustrations of Gustav Doré the original silent film has been restored and has a new score by Tangerine Dream.,7.0,2237,,,,,31.0,14.0\\n',\n",
              " 'tt0002199,\"From the Manger to the Cross; or, Jesus of Nazareth\",\"From the Manger to the Cross; or, Jesus of Nazareth\",1912,1913,\"Biography, Drama\",60,USA,English,Sidney Olcott,Gene Gauntier,Kalem Company,\"R. Henderson Bland, Percy Dyer, Gene Gauntier, Alice Hollister, Samuel Morgan, James D. Ainsley, Robert G. Vignola, George Kellog, J.P. McGowan\",\"An account of the life of Jesus Christ, based on the books of the New Testament: After Jesus\\' birth is foretold to his parents, he is born in Bethlehem, and is visited by shepherds and wise...\",5.7,484,,,,,13.0,5.0\\n',\n",
              " 'tt0002423,Madame DuBarry,Madame DuBarry,1919,1919-11-26,\"Biography, Drama, Romance\",85,Germany,German,Ernst Lubitsch,\"Norbert Falk, Hanns Kräly\",Projektions-AG Union (PAGU),\"Pola Negri, Emil Jannings, Harry Liedtke, Eduard von Winterstein, Reinhold Schünzel, Else Berna, Fred Immler, Gustav Czimeg, Karl Platen, Bernhard Goetzke, Magnus Stifter, Paul Biensfeldt, Willy Kaiser-Heyl, Alexander Ekert, Robert Sortsch-Pla\",\"The story of Madame DuBarry, the mistress of Louis XV of France, and her loves in the time of the French revolution.\",6.8,753,,,,,12.0,9.0\\n',\n",
              " 'tt0002445,Quo Vadis?,Quo Vadis?,1913,1913-03-01,\"Drama, History\",120,Italy,Italian,Enrico Guazzoni,\"Henryk Sienkiewicz, Enrico Guazzoni\",Società Italiana Cines,\"Amleto Novelli, Gustavo Serena, Carlo Cattaneo, Amelia Cattaneo, Lea Giunchi, Bruto Castellani, Augusto Mastripietri, Cesare Moltini, Olga Brandini, Ignazio Lupi, Giovanni Gizzi, Lia Orlandini, Matilde Guillaume, Ida Carloni Talli, Giuseppe Gambardella\",\"An epic Italian film \"\"Quo Vadis\"\" influenced many of the later movies.\",6.2,273,ITL 45000,,,,7.0,5.0\\n',\n",
              " 'tt0002452,Independenta Romaniei,Independenta Romaniei,1912,1912-09-01,\"History, War\",120,Romania,,\"Aristide Demetriade, Grigore Brezeanu\",\"Aristide Demetriade, Petre Liciu\",Societatea Filmului de Arta Leon Popescu,\"Aristide Demetriade, Constanta Demetriade, Constantin Nottara, Pepi Machauer, Aurel Athanasescu, Jeny Metaxa-Doro, Nicolae Soreanu, Vasile Toneanu, Aristita Romanescu, Elvire Popesco, M. Vîrgolici, C. Nedelcovici, Mihail Tancovici-Cosmin, Ion Dumitrescu, Gheorghe Meliseanu\",The movie depicts the Romanian War of Independence (1877-1878).,6.7,198,ROL 400000,,,,4.0,1.0\\n']"
            ]
          },
          "metadata": {
            "tags": []
          },
          "execution_count": 3
        }
      ]
    },
    {
      "cell_type": "code",
      "metadata": {
        "id": "a23pnnTr9tXc"
      },
      "source": [
        "import csv"
      ],
      "execution_count": 4,
      "outputs": []
    },
    {
      "cell_type": "code",
      "metadata": {
        "id": "nraLNauF97ae"
      },
      "source": [
        "with open('IMDb movies.csv') as f:\n",
        "  reader = csv.DictReader(f)\n",
        "  movies = [line for line in reader]"
      ],
      "execution_count": 7,
      "outputs": []
    },
    {
      "cell_type": "code",
      "metadata": {
        "colab": {
          "base_uri": "https://localhost:8080/"
        },
        "id": "cxDCnQ2g-i4j",
        "outputId": "7f8a8c45-a757-42a9-9639-6bed88cb69e4"
      },
      "source": [
        "movies[:10]"
      ],
      "execution_count": 8,
      "outputs": [
        {
          "output_type": "execute_result",
          "data": {
            "text/plain": [
              "[OrderedDict([('imdb_title_id', 'tt0000009'),\n",
              "              ('title', 'Miss Jerry'),\n",
              "              ('original_title', 'Miss Jerry'),\n",
              "              ('year', '1894'),\n",
              "              ('date_published', '1894-10-09'),\n",
              "              ('genre', 'Romance'),\n",
              "              ('duration', '45'),\n",
              "              ('country', 'USA'),\n",
              "              ('language', 'None'),\n",
              "              ('director', 'Alexander Black'),\n",
              "              ('writer', 'Alexander Black'),\n",
              "              ('production_company', 'Alexander Black Photoplays'),\n",
              "              ('actors', 'Blanche Bayliss, William Courtenay, Chauncey Depew'),\n",
              "              ('description',\n",
              "               'The adventures of a female reporter in the 1890s.'),\n",
              "              ('avg_vote', '5.9'),\n",
              "              ('votes', '154'),\n",
              "              ('budget', ''),\n",
              "              ('usa_gross_income', ''),\n",
              "              ('worlwide_gross_income', ''),\n",
              "              ('metascore', ''),\n",
              "              ('reviews_from_users', '1.0'),\n",
              "              ('reviews_from_critics', '2.0')]),\n",
              " OrderedDict([('imdb_title_id', 'tt0000574'),\n",
              "              ('title', 'The Story of the Kelly Gang'),\n",
              "              ('original_title', 'The Story of the Kelly Gang'),\n",
              "              ('year', '1906'),\n",
              "              ('date_published', '1906-12-26'),\n",
              "              ('genre', 'Biography, Crime, Drama'),\n",
              "              ('duration', '70'),\n",
              "              ('country', 'Australia'),\n",
              "              ('language', 'None'),\n",
              "              ('director', 'Charles Tait'),\n",
              "              ('writer', 'Charles Tait'),\n",
              "              ('production_company', 'J. and N. Tait'),\n",
              "              ('actors',\n",
              "               'Elizabeth Tait, John Tait, Norman Campbell, Bella Cola, Will Coyne, Sam Crewes, Jack Ennis, John Forde, Vera Linden, Mr. Marshall, Mr. McKenzie, Frank Mills, Ollie Wilson'),\n",
              "              ('description',\n",
              "               'True story of notorious Australian outlaw Ned Kelly (1855-80).'),\n",
              "              ('avg_vote', '6.1'),\n",
              "              ('votes', '589'),\n",
              "              ('budget', '$ 2250'),\n",
              "              ('usa_gross_income', ''),\n",
              "              ('worlwide_gross_income', ''),\n",
              "              ('metascore', ''),\n",
              "              ('reviews_from_users', '7.0'),\n",
              "              ('reviews_from_critics', '7.0')]),\n",
              " OrderedDict([('imdb_title_id', 'tt0001892'),\n",
              "              ('title', 'Den sorte drøm'),\n",
              "              ('original_title', 'Den sorte drøm'),\n",
              "              ('year', '1911'),\n",
              "              ('date_published', '1911-08-19'),\n",
              "              ('genre', 'Drama'),\n",
              "              ('duration', '53'),\n",
              "              ('country', 'Germany, Denmark'),\n",
              "              ('language', ''),\n",
              "              ('director', 'Urban Gad'),\n",
              "              ('writer', 'Urban Gad, Gebhard Schätzler-Perasini'),\n",
              "              ('production_company', 'Fotorama'),\n",
              "              ('actors',\n",
              "               'Asta Nielsen, Valdemar Psilander, Gunnar Helsengreen, Emil Albes, Hugo Flink, Mary Hagen'),\n",
              "              ('description',\n",
              "               \"Two men of high rank are both wooing the beautiful and famous equestrian acrobat Stella. While Stella ignores the jeweler Hirsch, she accepts Count von Waldberg's offer to follow her home, ...\"),\n",
              "              ('avg_vote', '5.8'),\n",
              "              ('votes', '188'),\n",
              "              ('budget', ''),\n",
              "              ('usa_gross_income', ''),\n",
              "              ('worlwide_gross_income', ''),\n",
              "              ('metascore', ''),\n",
              "              ('reviews_from_users', '5.0'),\n",
              "              ('reviews_from_critics', '2.0')]),\n",
              " OrderedDict([('imdb_title_id', 'tt0002101'),\n",
              "              ('title', 'Cleopatra'),\n",
              "              ('original_title', 'Cleopatra'),\n",
              "              ('year', '1912'),\n",
              "              ('date_published', '1912-11-13'),\n",
              "              ('genre', 'Drama, History'),\n",
              "              ('duration', '100'),\n",
              "              ('country', 'USA'),\n",
              "              ('language', 'English'),\n",
              "              ('director', 'Charles L. Gaskill'),\n",
              "              ('writer', 'Victorien Sardou'),\n",
              "              ('production_company', 'Helen Gardner Picture Players'),\n",
              "              ('actors',\n",
              "               'Helen Gardner, Pearl Sindelar, Miss Fielding, Miss Robson, Helene Costello, Charles Sindelar, Mr. Howard, James R. Waite, Mr. Osborne, Harry Knowles, Mr. Paul, Mr. Brady, Mr. Corker'),\n",
              "              ('description',\n",
              "               \"The fabled queen of Egypt's affair with Roman general Marc Antony is ultimately disastrous for both of them.\"),\n",
              "              ('avg_vote', '5.2'),\n",
              "              ('votes', '446'),\n",
              "              ('budget', '$ 45000'),\n",
              "              ('usa_gross_income', ''),\n",
              "              ('worlwide_gross_income', ''),\n",
              "              ('metascore', ''),\n",
              "              ('reviews_from_users', '25.0'),\n",
              "              ('reviews_from_critics', '3.0')]),\n",
              " OrderedDict([('imdb_title_id', 'tt0002130'),\n",
              "              ('title', \"L'Inferno\"),\n",
              "              ('original_title', \"L'Inferno\"),\n",
              "              ('year', '1911'),\n",
              "              ('date_published', '1911-03-06'),\n",
              "              ('genre', 'Adventure, Drama, Fantasy'),\n",
              "              ('duration', '68'),\n",
              "              ('country', 'Italy'),\n",
              "              ('language', 'Italian'),\n",
              "              ('director', 'Francesco Bertolini, Adolfo Padovan'),\n",
              "              ('writer', 'Dante Alighieri'),\n",
              "              ('production_company', 'Milano Film'),\n",
              "              ('actors',\n",
              "               'Salvatore Papa, Arturo Pirovano, Giuseppe de Liguoro, Pier Delle Vigne, Augusto Milla, Attilio Motta, Emilise Beretta'),\n",
              "              ('description',\n",
              "               \"Loosely adapted from Dante's Divine Comedy and inspired by the illustrations of Gustav Doré the original silent film has been restored and has a new score by Tangerine Dream.\"),\n",
              "              ('avg_vote', '7.0'),\n",
              "              ('votes', '2237'),\n",
              "              ('budget', ''),\n",
              "              ('usa_gross_income', ''),\n",
              "              ('worlwide_gross_income', ''),\n",
              "              ('metascore', ''),\n",
              "              ('reviews_from_users', '31.0'),\n",
              "              ('reviews_from_critics', '14.0')]),\n",
              " OrderedDict([('imdb_title_id', 'tt0002199'),\n",
              "              ('title', 'From the Manger to the Cross; or, Jesus of Nazareth'),\n",
              "              ('original_title',\n",
              "               'From the Manger to the Cross; or, Jesus of Nazareth'),\n",
              "              ('year', '1912'),\n",
              "              ('date_published', '1913'),\n",
              "              ('genre', 'Biography, Drama'),\n",
              "              ('duration', '60'),\n",
              "              ('country', 'USA'),\n",
              "              ('language', 'English'),\n",
              "              ('director', 'Sidney Olcott'),\n",
              "              ('writer', 'Gene Gauntier'),\n",
              "              ('production_company', 'Kalem Company'),\n",
              "              ('actors',\n",
              "               'R. Henderson Bland, Percy Dyer, Gene Gauntier, Alice Hollister, Samuel Morgan, James D. Ainsley, Robert G. Vignola, George Kellog, J.P. McGowan'),\n",
              "              ('description',\n",
              "               \"An account of the life of Jesus Christ, based on the books of the New Testament: After Jesus' birth is foretold to his parents, he is born in Bethlehem, and is visited by shepherds and wise...\"),\n",
              "              ('avg_vote', '5.7'),\n",
              "              ('votes', '484'),\n",
              "              ('budget', ''),\n",
              "              ('usa_gross_income', ''),\n",
              "              ('worlwide_gross_income', ''),\n",
              "              ('metascore', ''),\n",
              "              ('reviews_from_users', '13.0'),\n",
              "              ('reviews_from_critics', '5.0')]),\n",
              " OrderedDict([('imdb_title_id', 'tt0002423'),\n",
              "              ('title', 'Madame DuBarry'),\n",
              "              ('original_title', 'Madame DuBarry'),\n",
              "              ('year', '1919'),\n",
              "              ('date_published', '1919-11-26'),\n",
              "              ('genre', 'Biography, Drama, Romance'),\n",
              "              ('duration', '85'),\n",
              "              ('country', 'Germany'),\n",
              "              ('language', 'German'),\n",
              "              ('director', 'Ernst Lubitsch'),\n",
              "              ('writer', 'Norbert Falk, Hanns Kräly'),\n",
              "              ('production_company', 'Projektions-AG Union (PAGU)'),\n",
              "              ('actors',\n",
              "               'Pola Negri, Emil Jannings, Harry Liedtke, Eduard von Winterstein, Reinhold Schünzel, Else Berna, Fred Immler, Gustav Czimeg, Karl Platen, Bernhard Goetzke, Magnus Stifter, Paul Biensfeldt, Willy Kaiser-Heyl, Alexander Ekert, Robert Sortsch-Pla'),\n",
              "              ('description',\n",
              "               'The story of Madame DuBarry, the mistress of Louis XV of France, and her loves in the time of the French revolution.'),\n",
              "              ('avg_vote', '6.8'),\n",
              "              ('votes', '753'),\n",
              "              ('budget', ''),\n",
              "              ('usa_gross_income', ''),\n",
              "              ('worlwide_gross_income', ''),\n",
              "              ('metascore', ''),\n",
              "              ('reviews_from_users', '12.0'),\n",
              "              ('reviews_from_critics', '9.0')]),\n",
              " OrderedDict([('imdb_title_id', 'tt0002445'),\n",
              "              ('title', 'Quo Vadis?'),\n",
              "              ('original_title', 'Quo Vadis?'),\n",
              "              ('year', '1913'),\n",
              "              ('date_published', '1913-03-01'),\n",
              "              ('genre', 'Drama, History'),\n",
              "              ('duration', '120'),\n",
              "              ('country', 'Italy'),\n",
              "              ('language', 'Italian'),\n",
              "              ('director', 'Enrico Guazzoni'),\n",
              "              ('writer', 'Henryk Sienkiewicz, Enrico Guazzoni'),\n",
              "              ('production_company', 'Società Italiana Cines'),\n",
              "              ('actors',\n",
              "               'Amleto Novelli, Gustavo Serena, Carlo Cattaneo, Amelia Cattaneo, Lea Giunchi, Bruto Castellani, Augusto Mastripietri, Cesare Moltini, Olga Brandini, Ignazio Lupi, Giovanni Gizzi, Lia Orlandini, Matilde Guillaume, Ida Carloni Talli, Giuseppe Gambardella'),\n",
              "              ('description',\n",
              "               'An epic Italian film \"Quo Vadis\" influenced many of the later movies.'),\n",
              "              ('avg_vote', '6.2'),\n",
              "              ('votes', '273'),\n",
              "              ('budget', 'ITL 45000'),\n",
              "              ('usa_gross_income', ''),\n",
              "              ('worlwide_gross_income', ''),\n",
              "              ('metascore', ''),\n",
              "              ('reviews_from_users', '7.0'),\n",
              "              ('reviews_from_critics', '5.0')]),\n",
              " OrderedDict([('imdb_title_id', 'tt0002452'),\n",
              "              ('title', 'Independenta Romaniei'),\n",
              "              ('original_title', 'Independenta Romaniei'),\n",
              "              ('year', '1912'),\n",
              "              ('date_published', '1912-09-01'),\n",
              "              ('genre', 'History, War'),\n",
              "              ('duration', '120'),\n",
              "              ('country', 'Romania'),\n",
              "              ('language', ''),\n",
              "              ('director', 'Aristide Demetriade, Grigore Brezeanu'),\n",
              "              ('writer', 'Aristide Demetriade, Petre Liciu'),\n",
              "              ('production_company',\n",
              "               'Societatea Filmului de Arta Leon Popescu'),\n",
              "              ('actors',\n",
              "               'Aristide Demetriade, Constanta Demetriade, Constantin Nottara, Pepi Machauer, Aurel Athanasescu, Jeny Metaxa-Doro, Nicolae Soreanu, Vasile Toneanu, Aristita Romanescu, Elvire Popesco, M. Vîrgolici, C. Nedelcovici, Mihail Tancovici-Cosmin, Ion Dumitrescu, Gheorghe Meliseanu'),\n",
              "              ('description',\n",
              "               'The movie depicts the Romanian War of Independence (1877-1878).'),\n",
              "              ('avg_vote', '6.7'),\n",
              "              ('votes', '198'),\n",
              "              ('budget', 'ROL 400000'),\n",
              "              ('usa_gross_income', ''),\n",
              "              ('worlwide_gross_income', ''),\n",
              "              ('metascore', ''),\n",
              "              ('reviews_from_users', '4.0'),\n",
              "              ('reviews_from_critics', '1.0')]),\n",
              " OrderedDict([('imdb_title_id', 'tt0002461'),\n",
              "              ('title', 'Richard III'),\n",
              "              ('original_title', 'Richard III'),\n",
              "              ('year', '1912'),\n",
              "              ('date_published', '1912-10-15'),\n",
              "              ('genre', 'Drama'),\n",
              "              ('duration', '55'),\n",
              "              ('country', 'France, USA'),\n",
              "              ('language', 'English'),\n",
              "              ('director', 'André Calmettes, James Keane'),\n",
              "              ('writer', 'James Keane, William Shakespeare'),\n",
              "              ('production_company', \"Le Film d'Art\"),\n",
              "              ('actors',\n",
              "               'Robert Gemp, Frederick Warde, Albert Gardner, James Keane, George Moss, Howard Stuart, Virginia Rankin, Violet Stuart, Carey Lee, Carlotta De Felice'),\n",
              "              ('description',\n",
              "               'Richard of Gloucester uses manipulation and murder to gain the English throne.'),\n",
              "              ('avg_vote', '5.5'),\n",
              "              ('votes', '225'),\n",
              "              ('budget', '$ 30000'),\n",
              "              ('usa_gross_income', ''),\n",
              "              ('worlwide_gross_income', ''),\n",
              "              ('metascore', ''),\n",
              "              ('reviews_from_users', '8.0'),\n",
              "              ('reviews_from_critics', '1.0')])]"
            ]
          },
          "metadata": {
            "tags": []
          },
          "execution_count": 8
        }
      ]
    },
    {
      "cell_type": "code",
      "metadata": {
        "colab": {
          "base_uri": "https://localhost:8080/",
          "height": 35
        },
        "id": "Rh5qtyJP_Pji",
        "outputId": "db98a0d3-5733-4e00-c681-23c2eb748917"
      },
      "source": [
        "movies[0]['genre']"
      ],
      "execution_count": 12,
      "outputs": [
        {
          "output_type": "execute_result",
          "data": {
            "application/vnd.google.colaboratory.intrinsic+json": {
              "type": "string"
            },
            "text/plain": [
              "'Romance'"
            ]
          },
          "metadata": {
            "tags": []
          },
          "execution_count": 12
        }
      ]
    },
    {
      "cell_type": "code",
      "metadata": {
        "colab": {
          "base_uri": "https://localhost:8080/"
        },
        "id": "SINVOp8O_2on",
        "outputId": "970e267a-801a-4eee-8a2c-55362a2dc520"
      },
      "source": [
        "'Action' in movies[0]['genre']"
      ],
      "execution_count": 13,
      "outputs": [
        {
          "output_type": "execute_result",
          "data": {
            "text/plain": [
              "False"
            ]
          },
          "metadata": {
            "tags": []
          },
          "execution_count": 13
        }
      ]
    },
    {
      "cell_type": "code",
      "metadata": {
        "id": "9VwJedpcARSb"
      },
      "source": [
        "action_movies = [movie for movie in movies if 'Action' in movie['genre']]"
      ],
      "execution_count": 15,
      "outputs": []
    },
    {
      "cell_type": "code",
      "metadata": {
        "colab": {
          "base_uri": "https://localhost:8080/"
        },
        "id": "vG-yRmkIAy58",
        "outputId": "c6b97930-3441-4ecc-acab-80d5646a61a5"
      },
      "source": [
        "action_movies[:10]"
      ],
      "execution_count": 16,
      "outputs": [
        {
          "output_type": "execute_result",
          "data": {
            "text/plain": [
              "[OrderedDict([('imdb_title_id', 'tt0004465'),\n",
              "              ('title', 'The Perils of Pauline'),\n",
              "              ('original_title', 'The Perils of Pauline'),\n",
              "              ('year', '1914'),\n",
              "              ('date_published', '1914-03-23'),\n",
              "              ('genre', 'Action, Adventure, Drama'),\n",
              "              ('duration', '199'),\n",
              "              ('country', 'USA'),\n",
              "              ('language', 'English'),\n",
              "              ('director', 'Louis J. Gasnier, Donald MacKenzie'),\n",
              "              ('writer', 'Charles W. Goddard, Basil Dickey'),\n",
              "              ('production_company', 'Pathé Frères'),\n",
              "              ('actors',\n",
              "               'Pearl White, Crane Wilbur, Paul Panzer, Edward José, Francis Carlyle, Clifford Bruce, Donald MacKenzie, Jack Standing, Eleanor Woodruff, Leroy Baker, Louise Du Pre, Oscar Nye, Sam J. Ryan, Louis J. Gasnier, Joe Cuny'),\n",
              "              ('description',\n",
              "               \"Young Pauline is left a lot of money when her wealthy uncle dies. However, her uncle's secretary has been named as her guardian until she marries, at which time she will officially take ...\"),\n",
              "              ('avg_vote', '6.3'),\n",
              "              ('votes', '939'),\n",
              "              ('budget', '$ 25000'),\n",
              "              ('usa_gross_income', ''),\n",
              "              ('worlwide_gross_income', ''),\n",
              "              ('metascore', ''),\n",
              "              ('reviews_from_users', '5.0'),\n",
              "              ('reviews_from_critics', '8.0')]),\n",
              " OrderedDict([('imdb_title_id', 'tt0004635'),\n",
              "              ('title', 'The Squaw Man'),\n",
              "              ('original_title', 'The Squaw Man'),\n",
              "              ('year', '1914'),\n",
              "              ('date_published', '1914-02-15'),\n",
              "              ('genre', 'Action, Drama, Romance'),\n",
              "              ('duration', '74'),\n",
              "              ('country', 'USA'),\n",
              "              ('language', 'English'),\n",
              "              ('director', 'Oscar Apfel, Cecil B. DeMille'),\n",
              "              ('writer', 'Edwin Milton Royle, Cecil B. DeMille'),\n",
              "              ('production_company', 'Jesse L. Lasky Feature Play Company'),\n",
              "              ('actors',\n",
              "               \"Dustin Farnum, Monroe Salisbury, Winifred Kingston, Mrs. A.W. Filson, Haidee Fuller, Red Wing, Foster Knox, Fred Montague, 'Baby' Carmen De Rue, Fernando Gálvez, Eugene De Rue, H.R. Macy, H.L. Swisher, Michael J. Kilpatrick, Sydney Deane\"),\n",
              "              ('description',\n",
              "               \"A chivalrous British officer takes the blame for his cousin's embezzlement and journeys to the American West to start a new life on a cattle ranch.\"),\n",
              "              ('avg_vote', '5.7'),\n",
              "              ('votes', '879'),\n",
              "              ('budget', '$ 20000'),\n",
              "              ('usa_gross_income', ''),\n",
              "              ('worlwide_gross_income', ''),\n",
              "              ('metascore', ''),\n",
              "              ('reviews_from_users', '8.0'),\n",
              "              ('reviews_from_critics', '3.0')]),\n",
              " OrderedDict([('imdb_title_id', 'tt0006206'),\n",
              "              ('title', 'I vampiri'),\n",
              "              ('original_title', 'Les vampires'),\n",
              "              ('year', '1915'),\n",
              "              ('date_published', '1915-11-13'),\n",
              "              ('genre', 'Action, Adventure, Crime'),\n",
              "              ('duration', '421'),\n",
              "              ('country', 'France'),\n",
              "              ('language', 'French'),\n",
              "              ('director', 'Louis Feuillade'),\n",
              "              ('writer', 'Louis Feuillade'),\n",
              "              ('production_company', 'Société des Etablissements L. Gaumont'),\n",
              "              ('actors',\n",
              "               'Musidora, Édouard Mathé, Marcel Lévesque, Jean Aymé, Fernand Herrmann, Stacia Napierkowska, Renée Carl, Suzanne Delvé, Georgette Faraboni, Jacques Feyder, Fridolin, Rita Herlor, Émile Keppens, Louise Lagrange, Suzanne Le Bret'),\n",
              "              ('description',\n",
              "               'An intrepid reporter and his loyal friend battle a bizarre secret society of criminals known as The Vampires.'),\n",
              "              ('avg_vote', '7.3'),\n",
              "              ('votes', '4166'),\n",
              "              ('budget', ''),\n",
              "              ('usa_gross_income', ''),\n",
              "              ('worlwide_gross_income', ''),\n",
              "              ('metascore', ''),\n",
              "              ('reviews_from_users', '25.0'),\n",
              "              ('reviews_from_critics', '53.0')]),\n",
              " OrderedDict([('imdb_title_id', 'tt0006333'),\n",
              "              ('title', '20,000 Leagues Under the Sea'),\n",
              "              ('original_title', '20,000 Leagues Under the Sea'),\n",
              "              ('year', '1916'),\n",
              "              ('date_published', '1916-12-24'),\n",
              "              ('genre', 'Action, Adventure, Sci-Fi'),\n",
              "              ('duration', '105'),\n",
              "              ('country', 'USA'),\n",
              "              ('language', 'English'),\n",
              "              ('director', 'Stuart Paton'),\n",
              "              ('writer', 'Jules Verne'),\n",
              "              ('production_company', 'Williamson Submarine Film Corporation'),\n",
              "              ('actors',\n",
              "               'Dan Hanlon, Edna Pendleton, Curtis Benton, Allen Holubar, Matt Moore, Jane Gail, Howard Crampton, William Welsh, Lois Alexander, Wallis Clark'),\n",
              "              ('description',\n",
              "               'A French professor and his daughter accompany Captain Nemo on an adventure aboard a submarine.'),\n",
              "              ('avg_vote', '6.2'),\n",
              "              ('votes', '1501'),\n",
              "              ('budget', '$ 200000'),\n",
              "              ('usa_gross_income', ''),\n",
              "              ('worlwide_gross_income', ''),\n",
              "              ('metascore', ''),\n",
              "              ('reviews_from_users', '28.0'),\n",
              "              ('reviews_from_critics', '24.0')]),\n",
              " OrderedDict([('imdb_title_id', 'tt0007257'),\n",
              "              ('title', 'Reggie Mixes In'),\n",
              "              ('original_title', 'Reggie Mixes In'),\n",
              "              ('year', '1916'),\n",
              "              ('date_published', '1916-06-11'),\n",
              "              ('genre', 'Action, Comedy, Drama'),\n",
              "              ('duration', '50'),\n",
              "              ('country', 'USA'),\n",
              "              ('language', 'English'),\n",
              "              ('director', 'Christy Cabanne'),\n",
              "              ('writer', 'Robert M. Baker, Roy Somerville'),\n",
              "              ('production_company', 'Fine Arts Film Company'),\n",
              "              ('actors',\n",
              "               'Douglas Fairbanks, Bessie Love, Joseph Singleton, William Lowery, Wilbur Higby, Frank Bennett, Allan Sears, Lillian Langdon, Alma Rubens, Alberta Lee, Tom Wilson'),\n",
              "              ('description',\n",
              "               'Reggie, a wealthy young man about town, is eager for excitement, so he takes to visiting the rougher sections of the city in search of thrills. He meets and falls for a cabaret singer, but ...'),\n",
              "              ('avg_vote', '4.7'),\n",
              "              ('votes', '564'),\n",
              "              ('budget', ''),\n",
              "              ('usa_gross_income', ''),\n",
              "              ('worlwide_gross_income', ''),\n",
              "              ('metascore', ''),\n",
              "              ('reviews_from_users', '4.0'),\n",
              "              ('reviews_from_critics', '')]),\n",
              " OrderedDict([('imdb_title_id', 'tt0007260'),\n",
              "              ('title', 'The Return of Draw Egan'),\n",
              "              ('original_title', 'The Return of Draw Egan'),\n",
              "              ('year', '1916'),\n",
              "              ('date_published', '1916-10-15'),\n",
              "              ('genre', 'Action, Adventure, Romance'),\n",
              "              ('duration', '50'),\n",
              "              ('country', 'USA'),\n",
              "              ('language', 'English'),\n",
              "              ('director', 'William S. Hart'),\n",
              "              ('writer', 'C. Gardner Sullivan, C. Gardner Sullivan'),\n",
              "              ('production_company', 'Kay-Bee Pictures'),\n",
              "              ('actors',\n",
              "               'William S. Hart, Margery Wilson, Robert McKim, Louise Glaum, J.P. Lockney'),\n",
              "              ('description',\n",
              "               'Outlaw leader \"Draw\" Egan, believed dead, turns up in the town of Yellow Dog. The townsfolk believe him to be William Blake, a strong and law-abiding man. They appoint him sheriff to rid ...'),\n",
              "              ('avg_vote', '6.5'),\n",
              "              ('votes', '141'),\n",
              "              ('budget', ''),\n",
              "              ('usa_gross_income', ''),\n",
              "              ('worlwide_gross_income', ''),\n",
              "              ('metascore', ''),\n",
              "              ('reviews_from_users', '6.0'),\n",
              "              ('reviews_from_critics', '1.0')]),\n",
              " OrderedDict([('imdb_title_id', 'tt0009682'),\n",
              "              ('title', 'Tarzan of the Apes'),\n",
              "              ('original_title', 'Tarzan of the Apes'),\n",
              "              ('year', '1918'),\n",
              "              ('date_published', '1918-01-27'),\n",
              "              ('genre', 'Action, Adventure'),\n",
              "              ('duration', '73'),\n",
              "              ('country', 'USA'),\n",
              "              ('language', 'None'),\n",
              "              ('director', 'Scott Sidney'),\n",
              "              ('writer', 'Edgar Rice Burroughs, Fred Miller'),\n",
              "              ('production_company', 'National Film Corporation of America'),\n",
              "              ('actors',\n",
              "               'Elmo Lincoln, Enid Markey, True Boardman, Kathleen Kirkham, George B. French, Gordon Griffith, Colin Kenny, Thomas Jefferson, Bessie Toner, Jack Wilson, Louis Morrison, Eugene Pallette, Fred L. Wilson'),\n",
              "              ('description',\n",
              "               'Reared by a childless ape, the orphaned heir of the Greystokes becomes one of the apes. Then, Dr Porter organises a rescue expedition, and his beautiful daughter, Jane, catches his attention. Has Tarzan of the Apes found the perfect mate?'),\n",
              "              ('avg_vote', '5.7'),\n",
              "              ('votes', '684'),\n",
              "              ('budget', ''),\n",
              "              ('usa_gross_income', '$ 3270000'),\n",
              "              ('worlwide_gross_income', ''),\n",
              "              ('metascore', ''),\n",
              "              ('reviews_from_users', '14.0'),\n",
              "              ('reviews_from_critics', '21.0')]),\n",
              " OrderedDict([('imdb_title_id', 'tt0009894'),\n",
              "              ('title', 'El automóvil gris'),\n",
              "              ('original_title', 'El automóvil gris'),\n",
              "              ('year', '1919'),\n",
              "              ('date_published', '1919-12-11'),\n",
              "              ('genre', 'Action, Crime'),\n",
              "              ('duration', '223'),\n",
              "              ('country', 'Mexico'),\n",
              "              ('language', 'Spanish'),\n",
              "              ('director', 'Enrique Rosas'),\n",
              "              ('writer', 'Juan Manuel Cabrera, Miguel Necoechea'),\n",
              "              ('production_company', 'Azteca Films'),\n",
              "              ('actors',\n",
              "               'Joaquín Coss, Juan de Homs, Manuel de los Ríos, María Teresa Montoya, Dora Vila, Valentín Asperó, Juan Manuel Cabrera, Enrique Cantalaúba, Russo Conde, Ángel Esquivel, Francisco Ferriz, María Mercedes Ferriz, Miguel Ángel Ferriz, Ernesto Finance, Antonio Galé'),\n",
              "              ('description',\n",
              "               \"A gang terrorizes Mexico City's high society on 1915. Murder, kidnaping and robbery are their trademarks. One police inspector (Cabrera) follows the gang crimes and eventually send them to ...\"),\n",
              "              ('avg_vote', '7.1'),\n",
              "              ('votes', '168'),\n",
              "              ('budget', ''),\n",
              "              ('usa_gross_income', ''),\n",
              "              ('worlwide_gross_income', ''),\n",
              "              ('metascore', ''),\n",
              "              ('reviews_from_users', '1.0'),\n",
              "              ('reviews_from_critics', '2.0')]),\n",
              " OrderedDict([('imdb_title_id', 'tt0010879'),\n",
              "              ('title', 'Quando le nuvole volano via'),\n",
              "              ('original_title', 'When the Clouds Roll by'),\n",
              "              ('year', '1919'),\n",
              "              ('date_published', '1919-12-28'),\n",
              "              ('genre', 'Action, Comedy, Romance'),\n",
              "              ('duration', '85'),\n",
              "              ('country', 'USA'),\n",
              "              ('language', 'English'),\n",
              "              ('director', 'Victor Fleming'),\n",
              "              ('writer', 'Thomas J. Geraghty'),\n",
              "              ('production_company', 'Douglas Fairbanks Pictures'),\n",
              "              ('actors',\n",
              "               'Douglas Fairbanks, Albert MacQuarrie, Kathleen Clifford, Frank Campeau, Ralph Lewis, Herbert Grimwood, Daisy Jefferson, Bull Montana, Victor Fleming, Thomas J. Geraghty, William C. McGann, Harris Thorpe'),\n",
              "              ('description',\n",
              "               'Psychiatrist Dr. Ulrich Metz attempts to drive Daniel Brown to suicide.'),\n",
              "              ('avg_vote', '6.9'),\n",
              "              ('votes', '775'),\n",
              "              ('budget', ''),\n",
              "              ('usa_gross_income', ''),\n",
              "              ('worlwide_gross_income', ''),\n",
              "              ('metascore', ''),\n",
              "              ('reviews_from_users', '9.0'),\n",
              "              ('reviews_from_critics', '6.0')]),\n",
              " OrderedDict([('imdb_title_id', 'tt0011387'),\n",
              "              ('title', 'The Last of the Mohicans'),\n",
              "              ('original_title', 'The Last of the Mohicans'),\n",
              "              ('year', '1920'),\n",
              "              ('date_published', '1920-11-21'),\n",
              "              ('genre', 'Action, Adventure, Drama'),\n",
              "              ('duration', '73'),\n",
              "              ('country', 'USA'),\n",
              "              ('language', 'English'),\n",
              "              ('director', 'Clarence Brown, Maurice Tourneur'),\n",
              "              ('writer', 'James Fenimore Cooper, Robert Dillon'),\n",
              "              ('production_company', 'Maurice Tourneur Productions'),\n",
              "              ('actors',\n",
              "               'Wallace Beery, Barbara Bedford, Alan Roscoe, Lillian Hall, Henry Woodward, James Gordon, George Hackathorne, Nelson McDowell, Harry Lorraine, Theodore Lorch, Jack McDonald, Sydney Deane, Joseph Singleton'),\n",
              "              ('description',\n",
              "               'As Alice and Cora Munro attempt to find their father, a British officer in the French and Indian War, they are set upon by French soldiers and their cohorts, Huron tribesmen led by the evil...'),\n",
              "              ('avg_vote', '6.7'),\n",
              "              ('votes', '1102'),\n",
              "              ('budget', ''),\n",
              "              ('usa_gross_income', ''),\n",
              "              ('worlwide_gross_income', ''),\n",
              "              ('metascore', ''),\n",
              "              ('reviews_from_users', '28.0'),\n",
              "              ('reviews_from_critics', '7.0')])]"
            ]
          },
          "metadata": {
            "tags": []
          },
          "execution_count": 16
        }
      ]
    },
    {
      "cell_type": "code",
      "metadata": {
        "colab": {
          "base_uri": "https://localhost:8080/"
        },
        "id": "vBf9U3_5BuzC",
        "outputId": "cb26acc4-b297-4504-9a70-adb0f4779171"
      },
      "source": [
        "len(action_movies)"
      ],
      "execution_count": 17,
      "outputs": [
        {
          "output_type": "execute_result",
          "data": {
            "text/plain": [
              "12948"
            ]
          },
          "metadata": {
            "tags": []
          },
          "execution_count": 17
        }
      ]
    },
    {
      "cell_type": "code",
      "metadata": {
        "colab": {
          "base_uri": "https://localhost:8080/"
        },
        "id": "lfKxgeBFB0Hf",
        "outputId": "9411fe65-5dbe-4e99-edc4-09f11974652d"
      },
      "source": [
        "len(movies)"
      ],
      "execution_count": 18,
      "outputs": [
        {
          "output_type": "execute_result",
          "data": {
            "text/plain": [
              "85855"
            ]
          },
          "metadata": {
            "tags": []
          },
          "execution_count": 18
        }
      ]
    }
  ]
}