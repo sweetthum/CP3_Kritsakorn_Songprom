{
  "nbformat": 4,
  "nbformat_minor": 0,
  "metadata": {
    "colab": {
      "name": "IMDB.ipynb",
      "provenance": [],
      "authorship_tag": "ABX9TyODGQx50xf96lfDa6MuNEkF",
      "include_colab_link": true
    },
    "kernelspec": {
      "name": "python3",
      "display_name": "Python 3"
    },
    "language_info": {
      "name": "python"
    }
  },
  "cells": [
    {
      "cell_type": "markdown",
      "metadata": {
        "id": "view-in-github",
        "colab_type": "text"
      },
      "source": [
        "<a href=\"https://colab.research.google.com/github/sweetthum/CP3_Kritsakorn_Songprom/blob/main/IMDB.ipynb\" target=\"_parent\"><img src=\"https://colab.research.google.com/assets/colab-badge.svg\" alt=\"Open In Colab\"/></a>"
      ]
    },
    {
      "cell_type": "code",
      "metadata": {
        "id": "qwHYhxe96uI0",
        "colab": {
          "base_uri": "https://localhost:8080/"
        },
        "outputId": "ff859476-03ca-4f2a-c58c-f232b9f96ba9"
      },
      "source": [
        "!mkdir ~/.kaggle\n",
        "!mv kaggle.json ~/.kaggle\n",
        "!chmod 600 ~/.kaggle/kaggle.json\n",
        "!kaggle datasets download stefanoleone992/imdb-extensive-dataset\n",
        "!unzip imdb-extensive-dataset.zip"
      ],
      "execution_count": 1,
      "outputs": [
        {
          "output_type": "stream",
          "text": [
            "Downloading imdb-extensive-dataset.zip to /content\n",
            " 79% 65.0M/82.3M [00:00<00:00, 56.8MB/s]\n",
            "100% 82.3M/82.3M [00:01<00:00, 84.0MB/s]\n",
            "Archive:  imdb-extensive-dataset.zip\n",
            "  inflating: IMDb movies.csv         \n",
            "  inflating: IMDb names.csv          \n",
            "  inflating: IMDb ratings.csv        \n",
            "  inflating: IMDb title_principals.csv  \n"
          ],
          "name": "stdout"
        }
      ]
    }
  ]
}